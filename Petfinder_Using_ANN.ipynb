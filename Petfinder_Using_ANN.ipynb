{
  "nbformat": 4,
  "nbformat_minor": 0,
  "metadata": {
    "kernelspec": {
      "language": "python",
      "display_name": "Python 3",
      "name": "python3"
    },
    "language_info": {
      "pygments_lexer": "ipython3",
      "nbconvert_exporter": "python",
      "version": "3.6.4",
      "file_extension": ".py",
      "codemirror_mode": {
        "name": "ipython",
        "version": 3
      },
      "name": "python",
      "mimetype": "text/x-python"
    },
    "colab": {
      "name": "Petfinder Using ANN.ipynb",
      "provenance": [],
      "include_colab_link": true
    }
  },
  "cells": [
    {
      "cell_type": "markdown",
      "metadata": {
        "id": "view-in-github",
        "colab_type": "text"
      },
      "source": [
        "<a href=\"https://colab.research.google.com/github/shivamsouravjha/-PetFinder.my-Adoption-Prediction-/blob/master/Petfinder_Using_ANN.ipynb\" target=\"_parent\"><img src=\"https://colab.research.google.com/assets/colab-badge.svg\" alt=\"Open In Colab\"/></a>"
      ]
    },
    {
      "cell_type": "code",
      "metadata": {
        "_uuid": "8f2839f25d086af736a60e9eeb907d3b93b6e0e5",
        "_cell_guid": "b1076dfc-b9ad-4769-8c92-a6c4dae69d19",
        "trusted": true,
        "id": "jh7EqkzLS1W-",
        "colab_type": "code",
        "colab": {}
      },
      "source": [
        "# This Python 3 environment comes with many helpful analytics libraries installed\n",
        "# It is defined by the kaggle/python Docker image: https://github.com/kaggle/docker-python\n",
        "# For example, here's several helpful packages to load\n",
        "import tensorflow as tf\n",
        "import numpy as np # linear algebra\n",
        "import pandas as pd # data processing, CSV file I/O (e.g. pd.read_csv)\n",
        "import matplotlib.pyplot as plt\n",
        "# Input data files are available in the read-only \"../input/\" directory\n",
        "# For example, running this (by clicking run or pressing Shift+Enter) will list all files under the input directory\n",
        "import cv2\n",
        "import os\n",
        "from keras.layers import Dense,BatchNormalization\n",
        "from sklearn.model_selection import train_test_split\n",
        "\n",
        "# You can write up to 5GB to the current directory (/kaggle/working/) that gets preserved as output when you create a version using \"Save & Run All\" \n",
        "# You can also write temporary files to /kaggle/temp/, but they won't be saved outside of the current session"
      ],
      "execution_count": 1,
      "outputs": []
    },
    {
      "cell_type": "code",
      "metadata": {
        "_uuid": "d629ff2d2480ee46fbb7e2d37f6b5fab8052498a",
        "_cell_guid": "79c7e3d0-c299-4dcb-8224-4455121ee9b0",
        "trusted": true,
        "id": "b70bNr2xS1XJ",
        "colab_type": "code",
        "colab": {}
      },
      "source": [
        "trainX = pd.read_csv('../input/petfinder-adoption-prediction/train/train.csv')\n",
        "test = pd.read_csv('../input/petfinder-adoption-prediction/test/test.csv')\n",
        "print(trainX.shape)\n",
        "print(test.shape)\n",
        "trainX.head()\n"
      ],
      "execution_count": null,
      "outputs": []
    },
    {
      "cell_type": "code",
      "metadata": {
        "trusted": true,
        "id": "iTDVXOO_S1XS",
        "colab_type": "code",
        "colab": {}
      },
      "source": [
        "for col in trainX.columns:\n",
        "    if trainX[col].dtype=='object':\n",
        "        trainX.drop([col],axis=1,inplace=True)"
      ],
      "execution_count": null,
      "outputs": []
    },
    {
      "cell_type": "code",
      "metadata": {
        "trusted": true,
        "id": "gJq0SYqLS1XX",
        "colab_type": "code",
        "colab": {}
      },
      "source": [
        "for col in test.columns:\n",
        "    if test[col].dtype=='object':\n",
        "        test.drop([col],axis=1,inplace=True)"
      ],
      "execution_count": null,
      "outputs": []
    },
    {
      "cell_type": "code",
      "metadata": {
        "trusted": true,
        "id": "6wQHqGblS1Xd",
        "colab_type": "code",
        "colab": {}
      },
      "source": [
        "trainY = pd.DataFrame()\n",
        "trainY['AdoptionSpeed'] = trainX['AdoptionSpeed']\n",
        "trainX=trainX.drop(['AdoptionSpeed','State',\t'VideoAmt'\t,'PhotoAmt'],axis=1)\n",
        "test=test.drop(['State','VideoAmt'\t,'PhotoAmt'],axis=1)"
      ],
      "execution_count": null,
      "outputs": []
    },
    {
      "cell_type": "code",
      "metadata": {
        "trusted": true,
        "id": "uBOgxv04S1Xh",
        "colab_type": "code",
        "colab": {}
      },
      "source": [
        "print(trainX.shape)\n",
        "trainX.head()\n"
      ],
      "execution_count": null,
      "outputs": []
    },
    {
      "cell_type": "code",
      "metadata": {
        "trusted": true,
        "id": "uyFAbI66S1Xm",
        "colab_type": "code",
        "colab": {}
      },
      "source": [
        "print(test.shape)\n",
        "test.head()\n"
      ],
      "execution_count": null,
      "outputs": []
    },
    {
      "cell_type": "code",
      "metadata": {
        "trusted": true,
        "id": "-N1jSuSVS1Xx",
        "colab_type": "code",
        "colab": {}
      },
      "source": [
        "test_image = os.listdir('../input/petfinder-adoption-prediction/test_images')\n",
        "train_image = os.listdir('../input/petfinder-adoption-prediction/train_images')"
      ],
      "execution_count": null,
      "outputs": []
    },
    {
      "cell_type": "code",
      "metadata": {
        "trusted": true,
        "id": "_-ZgajuzS1X4",
        "colab_type": "code",
        "colab": {}
      },
      "source": [
        "def display_samples(columns=4, rows=3):\n",
        "    fig=plt.figure(figsize=(5*columns, 3*rows))\n",
        "    for i in range(columns*rows):\n",
        "        image_path = train_image[i]\n",
        "        img = cv2.imread(f'../input/petfinder-adoption-prediction/train_images/{image_path}')\n",
        "        fig.add_subplot(rows, columns, i+1)\n",
        "        plt.imshow(img)\n",
        "\n",
        "display_samples()\n"
      ],
      "execution_count": null,
      "outputs": []
    },
    {
      "cell_type": "code",
      "metadata": {
        "trusted": true,
        "id": "38LpE-jxS1X9",
        "colab_type": "code",
        "colab": {}
      },
      "source": [
        "from keras.models import Sequential"
      ],
      "execution_count": null,
      "outputs": []
    },
    {
      "cell_type": "code",
      "metadata": {
        "trusted": true,
        "id": "vbjDiSamS1YB",
        "colab_type": "code",
        "colab": {}
      },
      "source": [
        "model  = Sequential()"
      ],
      "execution_count": null,
      "outputs": []
    },
    {
      "cell_type": "code",
      "metadata": {
        "trusted": true,
        "id": "J1JnYV9nS1YH",
        "colab_type": "code",
        "colab": {}
      },
      "source": [
        "trainX.shape"
      ],
      "execution_count": null,
      "outputs": []
    },
    {
      "cell_type": "code",
      "metadata": {
        "trusted": true,
        "id": "kua7heeeS1YL",
        "colab_type": "code",
        "colab": {}
      },
      "source": [
        "model.add(Dense(4096,activation= 'relu',input_shape=(16,))) #dense layer 1\n",
        "model.add(tf.keras.layers.BatchNormalization()) #BachNorm\n",
        "model.add(tf.keras.layers.Dropout(0.25)) #Dropout\n",
        "model.add(Dense(2048,activation= 'relu'))\n",
        "model.add(tf.keras.layers.Dropout(0.25)) #Dropout\n",
        "model.add(Dense(1024,activation= 'relu'))\n",
        "model.add(tf.keras.layers.Dropout(0.25)) #Dropout\n",
        "model.add(Dense(512,activation= 'relu'))\n",
        "model.add(tf.keras.layers.Dropout(0.35)) #Dropout\n",
        "model.add(Dense(256,activation= 'relu'))\n",
        "model.add(tf.keras.layers.Dropout(0.25)) #Dropout\n",
        "\n",
        "model.add(Dense(128,activation= 'relu'))\n",
        "model.add(tf.keras.layers.Dropout(0.25)) #Dropout\n",
        "\n",
        "model.add(Dense(64,activation= 'relu'))\n",
        "model.add(tf.keras.layers.Dropout(0.35)) #Dropout\n",
        "model.add(BatchNormalization())\n",
        "\n",
        "model.add(Dense(32,activation= 'relu'))\n",
        "model.add(tf.keras.layers.Dropout(0.25)) #Dropout\n",
        "\n",
        "model.add(Dense(16,activation= 'relu'))\n",
        "model.add(tf.keras.layers.Dropout(0.15)) #Dropout\n",
        "\n",
        "model.add(Dense(5,activation= 'softmax'))  "
      ],
      "execution_count": null,
      "outputs": []
    },
    {
      "cell_type": "code",
      "metadata": {
        "trusted": true,
        "id": "D5SgytDSS1YR",
        "colab_type": "code",
        "colab": {}
      },
      "source": [
        "from keras.optimizers import RMSprop,Adam,SGD,Adagrad,Adadelta,Adamax,Nadam\n",
        "\n",
        "optimizer = Adam(lr=0.001, beta_1=0.9, beta_2=0.99)\n",
        "# Compile the model\n",
        "model.compile(optimizer = optimizer , loss = 'categorical_crossentropy', metrics=[\"accuracy\"])\n"
      ],
      "execution_count": null,
      "outputs": []
    },
    {
      "cell_type": "code",
      "metadata": {
        "trusted": true,
        "id": "_IUZGL3vS1YX",
        "colab_type": "code",
        "colab": {}
      },
      "source": [
        "trainX =trainX.values"
      ],
      "execution_count": null,
      "outputs": []
    },
    {
      "cell_type": "code",
      "metadata": {
        "trusted": true,
        "id": "_1a-KLI8S1Yb",
        "colab_type": "code",
        "colab": {}
      },
      "source": [
        "trainY=trainY.values"
      ],
      "execution_count": null,
      "outputs": []
    },
    {
      "cell_type": "code",
      "metadata": {
        "trusted": true,
        "id": "rXBQdQ8ES1Yf",
        "colab_type": "code",
        "colab": {}
      },
      "source": [
        ""
      ],
      "execution_count": null,
      "outputs": []
    },
    {
      "cell_type": "code",
      "metadata": {
        "trusted": true,
        "id": "SE4kQdv0S1Yl",
        "colab_type": "code",
        "colab": {}
      },
      "source": [
        "valx,testx,valy,testy = train_test_split(trainX,trainY,test_size=0.25)"
      ],
      "execution_count": null,
      "outputs": []
    },
    {
      "cell_type": "code",
      "metadata": {
        "trusted": true,
        "id": "m9cp14D6S1Yu",
        "colab_type": "code",
        "colab": {}
      },
      "source": [
        "testy = tf.keras.utils.to_categorical(testy, 5)\n",
        "valy = tf.keras.utils.to_categorical(valy, 5)"
      ],
      "execution_count": null,
      "outputs": []
    },
    {
      "cell_type": "code",
      "metadata": {
        "trusted": true,
        "id": "ky-eP45uS1Y0",
        "colab_type": "code",
        "colab": {}
      },
      "source": [
        "class myCallback(tf.keras.callbacks.Callback):\n",
        "    def on_epoch_end(self, epoch, logs={}):\n",
        "        if(logs.get('val_accuracy')>0.37):\n",
        "            print(\"\\nReached 40.0% accuracy so cancelling training!\")\n",
        "            self.model.stop_training = True\n"
      ],
      "execution_count": null,
      "outputs": []
    },
    {
      "cell_type": "code",
      "metadata": {
        "trusted": true,
        "id": "SQKbZxA5S1Y4",
        "colab_type": "code",
        "colab": {}
      },
      "source": [
        "callback = myCallback()"
      ],
      "execution_count": null,
      "outputs": []
    },
    {
      "cell_type": "code",
      "metadata": {
        "trusted": true,
        "id": "Ru9-DD1cS1Y8",
        "colab_type": "code",
        "colab": {}
      },
      "source": [
        "model.fit(testx,testy,validation_data =(valx,valy),batch_size=750,epochs=256,callbacks = [callback])"
      ],
      "execution_count": null,
      "outputs": []
    },
    {
      "cell_type": "code",
      "metadata": {
        "trusted": true,
        "id": "dSFK5TyPS1ZB",
        "colab_type": "code",
        "colab": {}
      },
      "source": [
        "scores = model.evaluate(valx, valy, verbose=0)\n",
        "print(\"{}: {:.2f}%\".format(\"accuracy\", scores[1]*100))"
      ],
      "execution_count": null,
      "outputs": []
    },
    {
      "cell_type": "code",
      "metadata": {
        "trusted": true,
        "id": "BnZX-lIES1ZK",
        "colab_type": "code",
        "colab": {}
      },
      "source": [
        "model.summary()"
      ],
      "execution_count": null,
      "outputs": []
    },
    {
      "cell_type": "code",
      "metadata": {
        "trusted": true,
        "id": "PWmdNxjkS1ZQ",
        "colab_type": "code",
        "colab": {}
      },
      "source": [
        "print(test.shape)"
      ],
      "execution_count": null,
      "outputs": []
    },
    {
      "cell_type": "code",
      "metadata": {
        "trusted": true,
        "id": "IBpMQeakS1ZV",
        "colab_type": "code",
        "colab": {}
      },
      "source": [
        "test.head()"
      ],
      "execution_count": null,
      "outputs": []
    },
    {
      "cell_type": "code",
      "metadata": {
        "trusted": true,
        "id": "5XGeFM0sS1Za",
        "colab_type": "code",
        "colab": {}
      },
      "source": [
        "prc =model.predict(test)\n"
      ],
      "execution_count": null,
      "outputs": []
    },
    {
      "cell_type": "code",
      "metadata": {
        "trusted": true,
        "id": "-EGqupyfS1Zi",
        "colab_type": "code",
        "colab": {}
      },
      "source": [
        "print(prc)"
      ],
      "execution_count": null,
      "outputs": []
    },
    {
      "cell_type": "code",
      "metadata": {
        "trusted": true,
        "id": "yOgnbzZgS1Zl",
        "colab_type": "code",
        "colab": {}
      },
      "source": [
        "prc = prc.argmax(axis=1)"
      ],
      "execution_count": null,
      "outputs": []
    },
    {
      "cell_type": "code",
      "metadata": {
        "trusted": true,
        "id": "xIF_1TpvS1Zo",
        "colab_type": "code",
        "colab": {}
      },
      "source": [
        "print(prc)"
      ],
      "execution_count": null,
      "outputs": []
    },
    {
      "cell_type": "markdown",
      "metadata": {
        "id": "DlItrzkeS1Zs",
        "colab_type": "text"
      },
      "source": [
        ""
      ]
    },
    {
      "cell_type": "code",
      "metadata": {
        "trusted": true,
        "id": "ti2CqKyAS1Zt",
        "colab_type": "code",
        "colab": {}
      },
      "source": [
        "sample = pd.read_csv('../input/petfinder-adoption-prediction/test/sample_submission.csv')"
      ],
      "execution_count": null,
      "outputs": []
    },
    {
      "cell_type": "code",
      "metadata": {
        "trusted": true,
        "id": "tFtA7NKSS1Z1",
        "colab_type": "code",
        "colab": {}
      },
      "source": [
        "sample.AdoptionSpeed = prc"
      ],
      "execution_count": null,
      "outputs": []
    },
    {
      "cell_type": "code",
      "metadata": {
        "trusted": true,
        "id": "JCGUT30xS1Z5",
        "colab_type": "code",
        "colab": {}
      },
      "source": [
        "sample.head(50)"
      ],
      "execution_count": null,
      "outputs": []
    },
    {
      "cell_type": "code",
      "metadata": {
        "trusted": true,
        "id": "qVnAgU9lS1Z8",
        "colab_type": "code",
        "colab": {}
      },
      "source": [
        "sample.to_csv('submission.csv', index=False)"
      ],
      "execution_count": null,
      "outputs": []
    }
  ]
}