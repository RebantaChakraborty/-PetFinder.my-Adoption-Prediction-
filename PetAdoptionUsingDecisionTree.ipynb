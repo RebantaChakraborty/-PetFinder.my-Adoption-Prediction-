{
  "nbformat": 4,
  "nbformat_minor": 0,
  "metadata": {
    "colab": {
      "name": "PetAdoption",
      "provenance": []
    },
    "kernelspec": {
      "name": "python3",
      "display_name": "Python 3"
    }
  },
  "cells": [
    {
      "cell_type": "code",
      "metadata": {
        "id": "skySQ8Ic7WVO"
      },
      "source": [
        "import pandas as pd\n",
        "from keras.models import Sequential\n",
        "from keras.layers import Dense\n",
        "from keras.wrappers.scikit_learn import KerasClassifier\n",
        "from keras.utils import np_utils\n",
        "from sklearn.model_selection import cross_val_score\n",
        "from sklearn.model_selection import KFold\n",
        "from sklearn.preprocessing import StandardScaler\n",
        "from sklearn.ensemble import RandomForestClassifier\n",
        "from sklearn.preprocessing import LabelEncoder\n",
        "from sklearn.pipeline import Pipeline\n",
        "import tensorflow as tf\n",
        "import numpy as np # linear algebra\n",
        "import matplotlib.pyplot as plt\n",
        "import cv2\n",
        "import os\n",
        "from keras.layers import Dense,BatchNormalization\n",
        "from sklearn.model_selection import train_test_split\n",
        "from sklearn.linear_model import LogisticRegression\n",
        "from sklearn.feature_selection import RFE\n",
        "from sklearn.metrics import accuracy_score, classification_report, confusion_matrix\n",
        "from skater.core.explanations import Interpretation\n",
        "from skater.model import InMemoryModel\n"
      ],
      "execution_count": 1,
      "outputs": []
    },
    {
      "cell_type": "code",
      "metadata": {
        "id": "pLtjgHdk7-9N"
      },
      "source": [
        "# load dataset\n",
        "dataframe = pd.read_csv(\"train.csv\")\n",
        "dataset = dataframe.values\n"
      ],
      "execution_count": 45,
      "outputs": []
    },
    {
      "cell_type": "code",
      "metadata": {
        "id": "1q_x9R2A8ftt",
        "outputId": "30f55020-dc5e-4fbc-8da3-1e45f90cec61",
        "colab": {
          "base_uri": "https://localhost:8080/",
          "height": 221
        }
      },
      "source": [
        "dataframe = dataframe.drop(['RescuerID'],axis=1)\n",
        "dataframe = dataframe.drop(['Name'],axis=1) \n",
        "dataframe = dataframe.drop(['PetID'],axis=1)\n",
        "dataframe = dataframe.drop(['Description'],axis=1)\n",
        "dataframe = dataframe.drop(['Health'],axis=1)\n",
        "dataframe = dataframe.drop(['Fee'],axis=1) \n",
        "dataframe = dataframe.drop(['VideoAmt'],axis=1)\n",
        "dataframe = dataframe.drop(['Color1'],axis=1) \n",
        "dataframe = dataframe.drop(['Color2'],axis=1)\n",
        "dataframe = dataframe.drop(['PhotoAmt'],axis=1)\n",
        "dataframe = dataframe.drop(['State'],axis=1)\n",
        "X = dataframe.drop(['AdoptionSpeed'],axis=1)\n",
        "Y = dataframe.AdoptionSpeed\n",
        "Y"
      ],
      "execution_count": 46,
      "outputs": [
        {
          "output_type": "execute_result",
          "data": {
            "text/plain": [
              "0        2\n",
              "1        0\n",
              "2        3\n",
              "3        2\n",
              "4        2\n",
              "        ..\n",
              "14988    2\n",
              "14989    4\n",
              "14990    3\n",
              "14991    4\n",
              "14992    3\n",
              "Name: AdoptionSpeed, Length: 14993, dtype: int64"
            ]
          },
          "metadata": {
            "tags": []
          },
          "execution_count": 46
        }
      ]
    },
    {
      "cell_type": "code",
      "metadata": {
        "id": "jnC8_n-a8j5c",
        "outputId": "2cd6f8f2-28d4-4903-dc1a-af225e89409a",
        "colab": {
          "base_uri": "https://localhost:8080/",
          "height": 439
        }
      },
      "source": [
        "dataframe[dataframe['AdoptionSpeed'] == 4]"
      ],
      "execution_count": 47,
      "outputs": [
        {
          "output_type": "execute_result",
          "data": {
            "text/html": [
              "<div>\n",
              "<style scoped>\n",
              "    .dataframe tbody tr th:only-of-type {\n",
              "        vertical-align: middle;\n",
              "    }\n",
              "\n",
              "    .dataframe tbody tr th {\n",
              "        vertical-align: top;\n",
              "    }\n",
              "\n",
              "    .dataframe thead th {\n",
              "        text-align: right;\n",
              "    }\n",
              "</style>\n",
              "<table border=\"1\" class=\"dataframe\">\n",
              "  <thead>\n",
              "    <tr style=\"text-align: right;\">\n",
              "      <th></th>\n",
              "      <th>Type</th>\n",
              "      <th>Age</th>\n",
              "      <th>Breed1</th>\n",
              "      <th>Breed2</th>\n",
              "      <th>Gender</th>\n",
              "      <th>Color3</th>\n",
              "      <th>MaturitySize</th>\n",
              "      <th>FurLength</th>\n",
              "      <th>Vaccinated</th>\n",
              "      <th>Dewormed</th>\n",
              "      <th>Sterilized</th>\n",
              "      <th>Quantity</th>\n",
              "      <th>AdoptionSpeed</th>\n",
              "    </tr>\n",
              "  </thead>\n",
              "  <tbody>\n",
              "    <tr>\n",
              "      <th>9</th>\n",
              "      <td>2</td>\n",
              "      <td>12</td>\n",
              "      <td>265</td>\n",
              "      <td>0</td>\n",
              "      <td>2</td>\n",
              "      <td>0</td>\n",
              "      <td>2</td>\n",
              "      <td>2</td>\n",
              "      <td>3</td>\n",
              "      <td>3</td>\n",
              "      <td>3</td>\n",
              "      <td>1</td>\n",
              "      <td>4</td>\n",
              "    </tr>\n",
              "    <tr>\n",
              "      <th>15</th>\n",
              "      <td>1</td>\n",
              "      <td>78</td>\n",
              "      <td>218</td>\n",
              "      <td>205</td>\n",
              "      <td>1</td>\n",
              "      <td>0</td>\n",
              "      <td>2</td>\n",
              "      <td>2</td>\n",
              "      <td>3</td>\n",
              "      <td>3</td>\n",
              "      <td>3</td>\n",
              "      <td>1</td>\n",
              "      <td>4</td>\n",
              "    </tr>\n",
              "    <tr>\n",
              "      <th>17</th>\n",
              "      <td>1</td>\n",
              "      <td>8</td>\n",
              "      <td>307</td>\n",
              "      <td>307</td>\n",
              "      <td>2</td>\n",
              "      <td>0</td>\n",
              "      <td>2</td>\n",
              "      <td>1</td>\n",
              "      <td>2</td>\n",
              "      <td>1</td>\n",
              "      <td>1</td>\n",
              "      <td>1</td>\n",
              "      <td>4</td>\n",
              "    </tr>\n",
              "    <tr>\n",
              "      <th>19</th>\n",
              "      <td>2</td>\n",
              "      <td>1</td>\n",
              "      <td>266</td>\n",
              "      <td>0</td>\n",
              "      <td>3</td>\n",
              "      <td>7</td>\n",
              "      <td>1</td>\n",
              "      <td>1</td>\n",
              "      <td>2</td>\n",
              "      <td>2</td>\n",
              "      <td>2</td>\n",
              "      <td>5</td>\n",
              "      <td>4</td>\n",
              "    </tr>\n",
              "    <tr>\n",
              "      <th>21</th>\n",
              "      <td>1</td>\n",
              "      <td>3</td>\n",
              "      <td>307</td>\n",
              "      <td>0</td>\n",
              "      <td>2</td>\n",
              "      <td>0</td>\n",
              "      <td>2</td>\n",
              "      <td>1</td>\n",
              "      <td>2</td>\n",
              "      <td>1</td>\n",
              "      <td>2</td>\n",
              "      <td>3</td>\n",
              "      <td>4</td>\n",
              "    </tr>\n",
              "    <tr>\n",
              "      <th>...</th>\n",
              "      <td>...</td>\n",
              "      <td>...</td>\n",
              "      <td>...</td>\n",
              "      <td>...</td>\n",
              "      <td>...</td>\n",
              "      <td>...</td>\n",
              "      <td>...</td>\n",
              "      <td>...</td>\n",
              "      <td>...</td>\n",
              "      <td>...</td>\n",
              "      <td>...</td>\n",
              "      <td>...</td>\n",
              "      <td>...</td>\n",
              "    </tr>\n",
              "    <tr>\n",
              "      <th>14980</th>\n",
              "      <td>1</td>\n",
              "      <td>24</td>\n",
              "      <td>307</td>\n",
              "      <td>307</td>\n",
              "      <td>2</td>\n",
              "      <td>0</td>\n",
              "      <td>3</td>\n",
              "      <td>1</td>\n",
              "      <td>1</td>\n",
              "      <td>1</td>\n",
              "      <td>3</td>\n",
              "      <td>1</td>\n",
              "      <td>4</td>\n",
              "    </tr>\n",
              "    <tr>\n",
              "      <th>14984</th>\n",
              "      <td>1</td>\n",
              "      <td>60</td>\n",
              "      <td>307</td>\n",
              "      <td>0</td>\n",
              "      <td>2</td>\n",
              "      <td>0</td>\n",
              "      <td>2</td>\n",
              "      <td>2</td>\n",
              "      <td>3</td>\n",
              "      <td>3</td>\n",
              "      <td>3</td>\n",
              "      <td>1</td>\n",
              "      <td>4</td>\n",
              "    </tr>\n",
              "    <tr>\n",
              "      <th>14985</th>\n",
              "      <td>1</td>\n",
              "      <td>24</td>\n",
              "      <td>179</td>\n",
              "      <td>307</td>\n",
              "      <td>1</td>\n",
              "      <td>7</td>\n",
              "      <td>2</td>\n",
              "      <td>2</td>\n",
              "      <td>3</td>\n",
              "      <td>3</td>\n",
              "      <td>2</td>\n",
              "      <td>1</td>\n",
              "      <td>4</td>\n",
              "    </tr>\n",
              "    <tr>\n",
              "      <th>14989</th>\n",
              "      <td>2</td>\n",
              "      <td>60</td>\n",
              "      <td>265</td>\n",
              "      <td>264</td>\n",
              "      <td>3</td>\n",
              "      <td>7</td>\n",
              "      <td>2</td>\n",
              "      <td>2</td>\n",
              "      <td>1</td>\n",
              "      <td>1</td>\n",
              "      <td>1</td>\n",
              "      <td>2</td>\n",
              "      <td>4</td>\n",
              "    </tr>\n",
              "    <tr>\n",
              "      <th>14991</th>\n",
              "      <td>2</td>\n",
              "      <td>9</td>\n",
              "      <td>266</td>\n",
              "      <td>0</td>\n",
              "      <td>2</td>\n",
              "      <td>0</td>\n",
              "      <td>1</td>\n",
              "      <td>1</td>\n",
              "      <td>1</td>\n",
              "      <td>1</td>\n",
              "      <td>1</td>\n",
              "      <td>1</td>\n",
              "      <td>4</td>\n",
              "    </tr>\n",
              "  </tbody>\n",
              "</table>\n",
              "<p>4197 rows × 13 columns</p>\n",
              "</div>"
            ],
            "text/plain": [
              "       Type  Age  Breed1  Breed2  ...  Dewormed  Sterilized  Quantity  AdoptionSpeed\n",
              "9         2   12     265       0  ...         3           3         1              4\n",
              "15        1   78     218     205  ...         3           3         1              4\n",
              "17        1    8     307     307  ...         1           1         1              4\n",
              "19        2    1     266       0  ...         2           2         5              4\n",
              "21        1    3     307       0  ...         1           2         3              4\n",
              "...     ...  ...     ...     ...  ...       ...         ...       ...            ...\n",
              "14980     1   24     307     307  ...         1           3         1              4\n",
              "14984     1   60     307       0  ...         3           3         1              4\n",
              "14985     1   24     179     307  ...         3           2         1              4\n",
              "14989     2   60     265     264  ...         1           1         2              4\n",
              "14991     2    9     266       0  ...         1           1         1              4\n",
              "\n",
              "[4197 rows x 13 columns]"
            ]
          },
          "metadata": {
            "tags": []
          },
          "execution_count": 47
        }
      ]
    },
    {
      "cell_type": "code",
      "metadata": {
        "id": "V-anPt4sEqiz",
        "outputId": "cd9aa1fb-0137-4536-b7a4-f095717eec63",
        "colab": {
          "base_uri": "https://localhost:8080/",
          "height": 439
        }
      },
      "source": [
        "X"
      ],
      "execution_count": 14,
      "outputs": [
        {
          "output_type": "execute_result",
          "data": {
            "text/html": [
              "<div>\n",
              "<style scoped>\n",
              "    .dataframe tbody tr th:only-of-type {\n",
              "        vertical-align: middle;\n",
              "    }\n",
              "\n",
              "    .dataframe tbody tr th {\n",
              "        vertical-align: top;\n",
              "    }\n",
              "\n",
              "    .dataframe thead th {\n",
              "        text-align: right;\n",
              "    }\n",
              "</style>\n",
              "<table border=\"1\" class=\"dataframe\">\n",
              "  <thead>\n",
              "    <tr style=\"text-align: right;\">\n",
              "      <th></th>\n",
              "      <th>Type</th>\n",
              "      <th>Age</th>\n",
              "      <th>Breed1</th>\n",
              "      <th>Breed2</th>\n",
              "      <th>Gender</th>\n",
              "      <th>Color1</th>\n",
              "      <th>Color2</th>\n",
              "      <th>Color3</th>\n",
              "      <th>MaturitySize</th>\n",
              "      <th>FurLength</th>\n",
              "      <th>Vaccinated</th>\n",
              "      <th>Dewormed</th>\n",
              "      <th>Sterilized</th>\n",
              "      <th>Quantity</th>\n",
              "    </tr>\n",
              "  </thead>\n",
              "  <tbody>\n",
              "    <tr>\n",
              "      <th>0</th>\n",
              "      <td>2</td>\n",
              "      <td>3</td>\n",
              "      <td>299</td>\n",
              "      <td>0</td>\n",
              "      <td>1</td>\n",
              "      <td>1</td>\n",
              "      <td>7</td>\n",
              "      <td>0</td>\n",
              "      <td>1</td>\n",
              "      <td>1</td>\n",
              "      <td>2</td>\n",
              "      <td>2</td>\n",
              "      <td>2</td>\n",
              "      <td>1</td>\n",
              "    </tr>\n",
              "    <tr>\n",
              "      <th>1</th>\n",
              "      <td>2</td>\n",
              "      <td>1</td>\n",
              "      <td>265</td>\n",
              "      <td>0</td>\n",
              "      <td>1</td>\n",
              "      <td>1</td>\n",
              "      <td>2</td>\n",
              "      <td>0</td>\n",
              "      <td>2</td>\n",
              "      <td>2</td>\n",
              "      <td>3</td>\n",
              "      <td>3</td>\n",
              "      <td>3</td>\n",
              "      <td>1</td>\n",
              "    </tr>\n",
              "    <tr>\n",
              "      <th>2</th>\n",
              "      <td>1</td>\n",
              "      <td>1</td>\n",
              "      <td>307</td>\n",
              "      <td>0</td>\n",
              "      <td>1</td>\n",
              "      <td>2</td>\n",
              "      <td>7</td>\n",
              "      <td>0</td>\n",
              "      <td>2</td>\n",
              "      <td>2</td>\n",
              "      <td>1</td>\n",
              "      <td>1</td>\n",
              "      <td>2</td>\n",
              "      <td>1</td>\n",
              "    </tr>\n",
              "    <tr>\n",
              "      <th>3</th>\n",
              "      <td>1</td>\n",
              "      <td>4</td>\n",
              "      <td>307</td>\n",
              "      <td>0</td>\n",
              "      <td>2</td>\n",
              "      <td>1</td>\n",
              "      <td>2</td>\n",
              "      <td>0</td>\n",
              "      <td>2</td>\n",
              "      <td>1</td>\n",
              "      <td>1</td>\n",
              "      <td>1</td>\n",
              "      <td>2</td>\n",
              "      <td>1</td>\n",
              "    </tr>\n",
              "    <tr>\n",
              "      <th>4</th>\n",
              "      <td>1</td>\n",
              "      <td>1</td>\n",
              "      <td>307</td>\n",
              "      <td>0</td>\n",
              "      <td>1</td>\n",
              "      <td>1</td>\n",
              "      <td>0</td>\n",
              "      <td>0</td>\n",
              "      <td>2</td>\n",
              "      <td>1</td>\n",
              "      <td>2</td>\n",
              "      <td>2</td>\n",
              "      <td>2</td>\n",
              "      <td>1</td>\n",
              "    </tr>\n",
              "    <tr>\n",
              "      <th>...</th>\n",
              "      <td>...</td>\n",
              "      <td>...</td>\n",
              "      <td>...</td>\n",
              "      <td>...</td>\n",
              "      <td>...</td>\n",
              "      <td>...</td>\n",
              "      <td>...</td>\n",
              "      <td>...</td>\n",
              "      <td>...</td>\n",
              "      <td>...</td>\n",
              "      <td>...</td>\n",
              "      <td>...</td>\n",
              "      <td>...</td>\n",
              "      <td>...</td>\n",
              "    </tr>\n",
              "    <tr>\n",
              "      <th>14988</th>\n",
              "      <td>2</td>\n",
              "      <td>2</td>\n",
              "      <td>266</td>\n",
              "      <td>0</td>\n",
              "      <td>3</td>\n",
              "      <td>1</td>\n",
              "      <td>0</td>\n",
              "      <td>0</td>\n",
              "      <td>2</td>\n",
              "      <td>2</td>\n",
              "      <td>2</td>\n",
              "      <td>2</td>\n",
              "      <td>2</td>\n",
              "      <td>4</td>\n",
              "    </tr>\n",
              "    <tr>\n",
              "      <th>14989</th>\n",
              "      <td>2</td>\n",
              "      <td>60</td>\n",
              "      <td>265</td>\n",
              "      <td>264</td>\n",
              "      <td>3</td>\n",
              "      <td>1</td>\n",
              "      <td>4</td>\n",
              "      <td>7</td>\n",
              "      <td>2</td>\n",
              "      <td>2</td>\n",
              "      <td>1</td>\n",
              "      <td>1</td>\n",
              "      <td>1</td>\n",
              "      <td>2</td>\n",
              "    </tr>\n",
              "    <tr>\n",
              "      <th>14990</th>\n",
              "      <td>2</td>\n",
              "      <td>2</td>\n",
              "      <td>265</td>\n",
              "      <td>266</td>\n",
              "      <td>3</td>\n",
              "      <td>5</td>\n",
              "      <td>6</td>\n",
              "      <td>7</td>\n",
              "      <td>3</td>\n",
              "      <td>2</td>\n",
              "      <td>2</td>\n",
              "      <td>1</td>\n",
              "      <td>3</td>\n",
              "      <td>5</td>\n",
              "    </tr>\n",
              "    <tr>\n",
              "      <th>14991</th>\n",
              "      <td>2</td>\n",
              "      <td>9</td>\n",
              "      <td>266</td>\n",
              "      <td>0</td>\n",
              "      <td>2</td>\n",
              "      <td>4</td>\n",
              "      <td>7</td>\n",
              "      <td>0</td>\n",
              "      <td>1</td>\n",
              "      <td>1</td>\n",
              "      <td>1</td>\n",
              "      <td>1</td>\n",
              "      <td>1</td>\n",
              "      <td>1</td>\n",
              "    </tr>\n",
              "    <tr>\n",
              "      <th>14992</th>\n",
              "      <td>1</td>\n",
              "      <td>1</td>\n",
              "      <td>307</td>\n",
              "      <td>307</td>\n",
              "      <td>1</td>\n",
              "      <td>2</td>\n",
              "      <td>0</td>\n",
              "      <td>0</td>\n",
              "      <td>2</td>\n",
              "      <td>1</td>\n",
              "      <td>2</td>\n",
              "      <td>2</td>\n",
              "      <td>2</td>\n",
              "      <td>1</td>\n",
              "    </tr>\n",
              "  </tbody>\n",
              "</table>\n",
              "<p>14993 rows × 14 columns</p>\n",
              "</div>"
            ],
            "text/plain": [
              "       Type  Age  Breed1  Breed2  ...  Vaccinated  Dewormed  Sterilized  Quantity\n",
              "0         2    3     299       0  ...           2         2           2         1\n",
              "1         2    1     265       0  ...           3         3           3         1\n",
              "2         1    1     307       0  ...           1         1           2         1\n",
              "3         1    4     307       0  ...           1         1           2         1\n",
              "4         1    1     307       0  ...           2         2           2         1\n",
              "...     ...  ...     ...     ...  ...         ...       ...         ...       ...\n",
              "14988     2    2     266       0  ...           2         2           2         4\n",
              "14989     2   60     265     264  ...           1         1           1         2\n",
              "14990     2    2     265     266  ...           2         1           3         5\n",
              "14991     2    9     266       0  ...           1         1           1         1\n",
              "14992     1    1     307     307  ...           2         2           2         1\n",
              "\n",
              "[14993 rows x 14 columns]"
            ]
          },
          "metadata": {
            "tags": []
          },
          "execution_count": 14
        }
      ]
    },
    {
      "cell_type": "code",
      "metadata": {
        "id": "qP7TxV20CigC",
        "outputId": "14f56991-5444-4a31-f412-b8fba8a2928f",
        "colab": {
          "base_uri": "https://localhost:8080/",
          "height": 350
        }
      },
      "source": [
        "# example of oversampling a multi-class classification dataset with a custom strategy\n",
        "from pandas import read_csv\n",
        "from imblearn.over_sampling import SMOTE\n",
        "from collections import Counter\n",
        "from matplotlib import pyplot\n",
        "from sklearn.preprocessing import LabelEncoder\n",
        "\n",
        "strategy = {0:4197, 1:4197, 2:4197, 3:4197, 4:4197}\n",
        "oversample = SMOTE(sampling_strategy=strategy)\n",
        "X, Y = oversample.fit_resample(X, Y)\n",
        "# summarize distribution\n",
        "counter = Counter(Y)\n",
        "for k,v in counter.items():\n",
        "\tper = v / len(Y) * 100\n",
        "\tprint('Class=%d, n=%d (%.3f%%)' % (k, v, per))\n",
        "# plot the distribution\n",
        "pyplot.bar(counter.keys(), counter.values())\n",
        "pyplot.show()"
      ],
      "execution_count": 48,
      "outputs": [
        {
          "output_type": "stream",
          "text": [
            "Class=2, n=4197 (20.000%)\n",
            "Class=0, n=4197 (20.000%)\n",
            "Class=3, n=4197 (20.000%)\n",
            "Class=1, n=4197 (20.000%)\n",
            "Class=4, n=4197 (20.000%)\n"
          ],
          "name": "stdout"
        },
        {
          "output_type": "display_data",
          "data": {
            "image/png": "[encoded data removed]",
            "text/plain": [
              "<Figure size 432x288 with 1 Axes>"
            ]
          },
          "metadata": {
            "tags": [],
            "needs_background": "light"
          }
        }
      ]
    },
    {
      "cell_type": "code",
      "metadata": {
        "id": "WW7tUjT22fGJ",
        "outputId": "42658cbe-787b-429b-ae98-2d98b2b5b715",
        "colab": {
          "base_uri": "https://localhost:8080/",
          "height": 102
        }
      },
      "source": [
        "classifier= LogisticRegression()  \n",
        "classifier.get_params()\n",
        "classifier.fit(X_train, Y_train)"
      ],
      "execution_count": 49,
      "outputs": [
        {
          "output_type": "execute_result",
          "data": {
            "text/plain": [
              "LogisticRegression(C=1.0, class_weight=None, dual=False, fit_intercept=True,\n",
              "                   intercept_scaling=1, l1_ratio=None, max_iter=100,\n",
              "                   multi_class='auto', n_jobs=None, penalty='l2',\n",
              "                   random_state=None, solver='lbfgs', tol=0.0001, verbose=0,\n",
              "                   warm_start=False)"
            ]
          },
          "metadata": {
            "tags": []
          },
          "execution_count": 49
        }
      ]
    },
    {
      "cell_type": "code",
      "metadata": {
        "id": "oYIaOdyB0Gnt"
      },
      "source": [
        "df1=pd.DataFrame(classifier.coef_)"
      ],
      "execution_count": 52,
      "outputs": []
    },
    {
      "cell_type": "code",
      "metadata": {
        "id": "MCiE_Uc72k-X"
      },
      "source": [
        "df1=df1.transpose()"
      ],
      "execution_count": 53,
      "outputs": []
    },
    {
      "cell_type": "code",
      "metadata": {
        "id": "sFNKaTS62lEx",
        "outputId": "5591f3c6-165b-421b-d9b6-79412264a439",
        "colab": {
          "base_uri": "https://localhost:8080/",
          "height": 85
        }
      },
      "source": [
        "dataframe.columns"
      ],
      "execution_count": 54,
      "outputs": [
        {
          "output_type": "execute_result",
          "data": {
            "text/plain": [
              "Index(['Type', 'Age', 'Breed1', 'Breed2', 'Gender', 'Color3', 'MaturitySize',\n",
              "       'FurLength', 'Vaccinated', 'Dewormed', 'Sterilized', 'Quantity',\n",
              "       'AdoptionSpeed'],\n",
              "      dtype='object')"
            ]
          },
          "metadata": {
            "tags": []
          },
          "execution_count": 54
        }
      ]
    },
    {
      "cell_type": "code",
      "metadata": {
        "id": "nVryzLB_2lBl"
      },
      "source": [
        "df2 = pd.DataFrame(dataframe.columns)"
      ],
      "execution_count": 55,
      "outputs": []
    },
    {
      "cell_type": "code",
      "metadata": {
        "id": "tkcwC_dQ2wcW"
      },
      "source": [
        "df1[\"Features\"]= df2"
      ],
      "execution_count": 56,
      "outputs": []
    },
    {
      "cell_type": "code",
      "metadata": {
        "id": "M5LBXBEN2wjd",
        "outputId": "06a31340-365f-4a5f-b75a-8cc02a0233cf",
        "colab": {
          "base_uri": "https://localhost:8080/",
          "height": 483
        }
      },
      "source": [
        "df1"
      ],
      "execution_count": 57,
      "outputs": [
        {
          "output_type": "execute_result",
          "data": {
            "text/html": [
              "<div>\n",
              "<style scoped>\n",
              "    .dataframe tbody tr th:only-of-type {\n",
              "        vertical-align: middle;\n",
              "    }\n",
              "\n",
              "    .dataframe tbody tr th {\n",
              "        vertical-align: top;\n",
              "    }\n",
              "\n",
              "    .dataframe thead th {\n",
              "        text-align: right;\n",
              "    }\n",
              "</style>\n",
              "<table border=\"1\" class=\"dataframe\">\n",
              "  <thead>\n",
              "    <tr style=\"text-align: right;\">\n",
              "      <th></th>\n",
              "      <th>0</th>\n",
              "      <th>1</th>\n",
              "      <th>2</th>\n",
              "      <th>3</th>\n",
              "      <th>4</th>\n",
              "      <th>Features</th>\n",
              "    </tr>\n",
              "  </thead>\n",
              "  <tbody>\n",
              "    <tr>\n",
              "      <th>0</th>\n",
              "      <td>0.187952</td>\n",
              "      <td>0.102119</td>\n",
              "      <td>-0.050548</td>\n",
              "      <td>-0.192215</td>\n",
              "      <td>-0.047307</td>\n",
              "      <td>Type</td>\n",
              "    </tr>\n",
              "    <tr>\n",
              "      <th>1</th>\n",
              "      <td>-0.114352</td>\n",
              "      <td>-0.168480</td>\n",
              "      <td>-0.030829</td>\n",
              "      <td>-0.002813</td>\n",
              "      <td>0.316475</td>\n",
              "      <td>Age</td>\n",
              "    </tr>\n",
              "    <tr>\n",
              "      <th>2</th>\n",
              "      <td>-0.138937</td>\n",
              "      <td>-0.180961</td>\n",
              "      <td>0.002352</td>\n",
              "      <td>-0.017748</td>\n",
              "      <td>0.335294</td>\n",
              "      <td>Breed1</td>\n",
              "    </tr>\n",
              "    <tr>\n",
              "      <th>3</th>\n",
              "      <td>0.178366</td>\n",
              "      <td>-0.080766</td>\n",
              "      <td>-0.063718</td>\n",
              "      <td>0.000102</td>\n",
              "      <td>-0.033984</td>\n",
              "      <td>Breed2</td>\n",
              "    </tr>\n",
              "    <tr>\n",
              "      <th>4</th>\n",
              "      <td>-0.327176</td>\n",
              "      <td>-0.021556</td>\n",
              "      <td>0.037965</td>\n",
              "      <td>0.141241</td>\n",
              "      <td>0.169525</td>\n",
              "      <td>Gender</td>\n",
              "    </tr>\n",
              "    <tr>\n",
              "      <th>5</th>\n",
              "      <td>-0.078914</td>\n",
              "      <td>0.038755</td>\n",
              "      <td>0.037370</td>\n",
              "      <td>0.002455</td>\n",
              "      <td>0.000335</td>\n",
              "      <td>Color3</td>\n",
              "    </tr>\n",
              "    <tr>\n",
              "      <th>6</th>\n",
              "      <td>-0.068795</td>\n",
              "      <td>-0.001358</td>\n",
              "      <td>0.020197</td>\n",
              "      <td>0.063593</td>\n",
              "      <td>-0.013637</td>\n",
              "      <td>MaturitySize</td>\n",
              "    </tr>\n",
              "    <tr>\n",
              "      <th>7</th>\n",
              "      <td>0.102527</td>\n",
              "      <td>-0.002823</td>\n",
              "      <td>-0.014805</td>\n",
              "      <td>-0.029772</td>\n",
              "      <td>-0.055127</td>\n",
              "      <td>FurLength</td>\n",
              "    </tr>\n",
              "    <tr>\n",
              "      <th>8</th>\n",
              "      <td>-0.440487</td>\n",
              "      <td>0.011668</td>\n",
              "      <td>0.138889</td>\n",
              "      <td>0.123856</td>\n",
              "      <td>0.166075</td>\n",
              "      <td>Vaccinated</td>\n",
              "    </tr>\n",
              "    <tr>\n",
              "      <th>9</th>\n",
              "      <td>0.013977</td>\n",
              "      <td>0.113006</td>\n",
              "      <td>0.019176</td>\n",
              "      <td>-0.073136</td>\n",
              "      <td>-0.073025</td>\n",
              "      <td>Dewormed</td>\n",
              "    </tr>\n",
              "    <tr>\n",
              "      <th>10</th>\n",
              "      <td>-0.165072</td>\n",
              "      <td>0.084933</td>\n",
              "      <td>0.123616</td>\n",
              "      <td>0.006202</td>\n",
              "      <td>-0.049681</td>\n",
              "      <td>Sterilized</td>\n",
              "    </tr>\n",
              "    <tr>\n",
              "      <th>11</th>\n",
              "      <td>0.011862</td>\n",
              "      <td>-0.043969</td>\n",
              "      <td>-0.080254</td>\n",
              "      <td>-0.040308</td>\n",
              "      <td>0.152669</td>\n",
              "      <td>Quantity</td>\n",
              "    </tr>\n",
              "    <tr>\n",
              "      <th>12</th>\n",
              "      <td>-0.069685</td>\n",
              "      <td>0.098420</td>\n",
              "      <td>0.039784</td>\n",
              "      <td>-0.050736</td>\n",
              "      <td>-0.017784</td>\n",
              "      <td>AdoptionSpeed</td>\n",
              "    </tr>\n",
              "    <tr>\n",
              "      <th>13</th>\n",
              "      <td>-0.212772</td>\n",
              "      <td>-0.023671</td>\n",
              "      <td>0.073358</td>\n",
              "      <td>0.046386</td>\n",
              "      <td>0.116699</td>\n",
              "      <td>NaN</td>\n",
              "    </tr>\n",
              "  </tbody>\n",
              "</table>\n",
              "</div>"
            ],
            "text/plain": [
              "           0         1         2         3         4       Features\n",
              "0   0.187952  0.102119 -0.050548 -0.192215 -0.047307           Type\n",
              "1  -0.114352 -0.168480 -0.030829 -0.002813  0.316475            Age\n",
              "2  -0.138937 -0.180961  0.002352 -0.017748  0.335294         Breed1\n",
              "3   0.178366 -0.080766 -0.063718  0.000102 -0.033984         Breed2\n",
              "4  -0.327176 -0.021556  0.037965  0.141241  0.169525         Gender\n",
              "5  -0.078914  0.038755  0.037370  0.002455  0.000335         Color3\n",
              "6  -0.068795 -0.001358  0.020197  0.063593 -0.013637   MaturitySize\n",
              "7   0.102527 -0.002823 -0.014805 -0.029772 -0.055127      FurLength\n",
              "8  -0.440487  0.011668  0.138889  0.123856  0.166075     Vaccinated\n",
              "9   0.013977  0.113006  0.019176 -0.073136 -0.073025       Dewormed\n",
              "10 -0.165072  0.084933  0.123616  0.006202 -0.049681     Sterilized\n",
              "11  0.011862 -0.043969 -0.080254 -0.040308  0.152669       Quantity\n",
              "12 -0.069685  0.098420  0.039784 -0.050736 -0.017784  AdoptionSpeed\n",
              "13 -0.212772 -0.023671  0.073358  0.046386  0.116699            NaN"
            ]
          },
          "metadata": {
            "tags": []
          },
          "execution_count": 57
        }
      ]
    },
    {
      "cell_type": "code",
      "metadata": {
        "id": "DyfLQa9cu2Jb"
      },
      "source": [
        "X_train_norm = StandardScaler().fit_transform(X)\n",
        "X_train, X_test, Y_train, Y_test = train_test_split(\n",
        "                            X_train_norm, Y, test_size=0.3, random_state=42,stratify=Y)"
      ],
      "execution_count": 58,
      "outputs": []
    },
    {
      "cell_type": "code",
      "metadata": {
        "id": "gb4RnzH8x0NP"
      },
      "source": [
        "from sklearn import tree\n",
        "clf_dt = tree.DecisionTreeClassifier(random_state=42).fit(X_train, Y_train)"
      ],
      "execution_count": 59,
      "outputs": []
    },
    {
      "cell_type": "code",
      "metadata": {
        "id": "__QO3p4Bzhya",
        "outputId": "8a3ba98a-66e4-49f2-e4a4-3eba7303f907",
        "colab": {
          "base_uri": "https://localhost:8080/",
          "height": 238
        }
      },
      "source": [
        "y_pred= clf_dt.predict(X_test)  \n",
        "print(classification_report(Y_test, y_pred))\n",
        "print(\"Accuracy for model 3: %.2f\" % (accuracy_score(Y_test, y_pred) * 100))"
      ],
      "execution_count": 60,
      "outputs": [
        {
          "output_type": "stream",
          "text": [
            "              precision    recall  f1-score   support\n",
            "\n",
            "           0       0.68      0.77      0.72      1259\n",
            "           1       0.38      0.43      0.40      1259\n",
            "           2       0.30      0.30      0.30      1259\n",
            "           3       0.36      0.32      0.34      1260\n",
            "           4       0.39      0.32      0.35      1259\n",
            "\n",
            "    accuracy                           0.43      6296\n",
            "   macro avg       0.42      0.43      0.42      6296\n",
            "weighted avg       0.42      0.43      0.42      6296\n",
            "\n",
            "Accuracy for model 3: 42.85\n"
          ],
          "name": "stdout"
        }
      ]
    },
    {
      "cell_type": "code",
      "metadata": {
        "id": "dbxEexAm4vfm",
        "outputId": "062be583-768a-40cb-bcbf-8af382be8dfd",
        "colab": {
          "base_uri": "https://localhost:8080/",
          "height": 265
        }
      },
      "source": [
        "pyplot.bar([x for x in range(len(importance))], importance)\n",
        "pyplot.show()"
      ],
      "execution_count": null,
      "outputs": [
        {
          "output_type": "display_data",
          "data": {
            "image/png": "[encoded data removed]",
            "text/plain": [
              "<Figure size 432x288 with 1 Axes>"
            ]
          },
          "metadata": {
            "tags": [],
            "needs_background": "light"
          }
        }
      ]
    },
    {
      "cell_type": "code",
      "metadata": {
        "id": "tWUF_cz-5SQV"
      },
      "source": [
        ""
      ],
      "execution_count": null,
      "outputs": []
    },
    {
      "cell_type": "code",
      "metadata": {
        "id": "SgdnmJyb4vdP"
      },
      "source": [
        ""
      ],
      "execution_count": null,
      "outputs": []
    }
  ]
}